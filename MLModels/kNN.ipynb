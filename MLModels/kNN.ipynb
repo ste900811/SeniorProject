{
 "cells": [
  {
   "cell_type": "code",
   "execution_count": 12,
   "metadata": {},
   "outputs": [
    {
     "name": "stdout",
     "output_type": "stream",
     "text": [
      "   DIAGNOSIS      WEIGHT  HEIGHT  GENDER   AGE\n",
      "0        829   72.099998  1.7018       0  72.0\n",
      "1        467  100.400002  1.8542       0  61.0\n",
      "2        829   96.000000  1.8288       0  75.0\n"
     ]
    }
   ],
   "source": [
    "# Read the dataframe and extraction the feature\n",
    "import pandas as pd\n",
    "\n",
    "# Read the data\n",
    "data = pd.read_csv('../dataProcess/diagnosis.csv')\n",
    "\n",
    "# Do feature extraction on Diagnosis and Gender\n",
    "diagnosisLabel = dict([(d, index) for index, d in enumerate(set(data[\"DIAGNOSIS\"]))])\n",
    "genderLabel = {\"M\": 0, \"F\": 1}\n",
    "\n",
    "# Replace the string with the index\n",
    "data[\"DIAGNOSIS\"] = [diagnosisLabel[n] for n in data[\"DIAGNOSIS\"]]\n",
    "data[\"GENDER\"] = [genderLabel[n] for n in data[\"GENDER\"]]\n",
    "\n",
    "print(data.head(3))\n"
   ]
  },
  {
   "cell_type": "code",
   "execution_count": 23,
   "metadata": {},
   "outputs": [
    {
     "name": "stdout",
     "output_type": "stream",
     "text": [
      "Probability 0 of 162 is 0.3333333333333333\n",
      "Probability 0 of 752 is 0.3333333333333333\n",
      "Probability 0 of 1123 is 0.3333333333333333\n",
      "Probability 1 of 213 is 0.3333333333333333\n",
      "Probability 1 of 1331 is 0.3333333333333333\n",
      "Probability 1 of 1368 is 0.3333333333333333\n",
      "Probability 2 of 457 is 0.3333333333333333\n",
      "Probability 2 of 930 is 0.3333333333333333\n",
      "Probability 2 of 1368 is 0.3333333333333333\n",
      "Probability 3 of 1293 is 0.6666666666666666\n",
      "Probability 3 of 1331 is 0.3333333333333333\n"
     ]
    }
   ],
   "source": [
    "# Set up the kNN model and fit the training data into the kNN\n",
    "from sklearn.neighbors import KNeighborsClassifier\n",
    "from sklearn.preprocessing import StandardScaler\n",
    "\n",
    "# Set up the model X and y\n",
    "y = data[\"DIAGNOSIS\"]\n",
    "X = data.drop([\"DIAGNOSIS\"], axis=1)\n",
    "\n",
    "# Standardize the data\n",
    "scaler = StandardScaler()\n",
    "X = scaler.fit_transform(X.to_numpy())\n",
    "\n",
    "# Train the model\n",
    "model = KNeighborsClassifier(n_neighbors=3)\n",
    "model.fit(X, y)\n"
   ]
  },
  {
   "cell_type": "code",
   "execution_count": null,
   "metadata": {},
   "outputs": [],
   "source": [
    "# Set up the prediction data and predict the result\n",
    "# Get the prediction\n",
    "predData = pd.DataFrame({'WEIGHT': [72.2, 65.6, 45.2, 50.0],\n",
    "                         'HEIGHT': [1.8, 1.2, 1.5, 1.6],\n",
    "                         'GENDER': [0, 0, 1, 1],\n",
    "                         'AGE'   : [75, 30, 15, 20]})\n",
    "predData = scaler.transform(predData.to_numpy())\n",
    "for i, row in enumerate(predData):\n",
    "  rowPred = model.predict_proba([row])\n",
    "  for index, pred in enumerate(rowPred[0]):\n",
    "    if pred > 0:\n",
    "      print(f\"Probability {i} of {index} is {pred}\")"
   ]
  }
 ],
 "metadata": {
  "kernelspec": {
   "display_name": "Python 3",
   "language": "python",
   "name": "python3"
  },
  "language_info": {
   "codemirror_mode": {
    "name": "ipython",
    "version": 3
   },
   "file_extension": ".py",
   "mimetype": "text/x-python",
   "name": "python",
   "nbconvert_exporter": "python",
   "pygments_lexer": "ipython3",
   "version": "3.11.5"
  }
 },
 "nbformat": 4,
 "nbformat_minor": 2
}

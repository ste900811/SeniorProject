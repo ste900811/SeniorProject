{
 "cells": [
  {
   "cell_type": "code",
   "execution_count": 11,
   "metadata": {},
   "outputs": [
    {
     "name": "stdout",
     "output_type": "stream",
     "text": [
      "   DIAGNOSIS      WEIGHT  HEIGHT  GENDER    AGE\n",
      "0        232   72.099998  1.7018       1   72.0\n",
      "1       1173  100.400002  1.8542       1   61.0\n",
      "2        232   96.000000  1.8288       1   75.0\n",
      "3        684   65.699997  1.6510       1  302.0\n",
      "4        740  120.000000  1.8288       1   47.0\n",
      "5        212   91.400002  1.7526       0   71.0\n",
      "6       1338   87.000000  1.8288       1   77.0\n",
      "7        342   98.199997  1.8288       1   83.0\n",
      "8       1364  118.000000  1.5494       1   47.0\n",
      "9       1442   73.000000  1.6764       0   65.0\n"
     ]
    }
   ],
   "source": [
    "# Read the dataframe and extraction the feature\n",
    "import pandas as pd\n",
    "\n",
    "# Read the data\n",
    "data = pd.read_csv('../dataProcess/diagnosis.csv')\n",
    "\n",
    "# Do feature extraction on Diagnosis and Gender\n",
    "diagnosisLabel = dict([(d, index) for index, d in enumerate(set(data[\"DIAGNOSIS\"]))])\n",
    "genderLanel = dict([(d, index) for index, d in enumerate(set(data[\"GENDER\"]))])\n",
    "\n",
    "# Replace the string with the index\n",
    "data[\"DIAGNOSIS\"] = [diagnosisLabel[n] for n in data[\"DIAGNOSIS\"]]\n",
    "data[\"GENDER\"] = [genderLanel[n] for n in data[\"GENDER\"]]\n"
   ]
  }
 ],
 "metadata": {
  "kernelspec": {
   "display_name": "Python 3",
   "language": "python",
   "name": "python3"
  },
  "language_info": {
   "codemirror_mode": {
    "name": "ipython",
    "version": 3
   },
   "file_extension": ".py",
   "mimetype": "text/x-python",
   "name": "python",
   "nbconvert_exporter": "python",
   "pygments_lexer": "ipython3",
   "version": "3.11.5"
  }
 },
 "nbformat": 4,
 "nbformat_minor": 2
}

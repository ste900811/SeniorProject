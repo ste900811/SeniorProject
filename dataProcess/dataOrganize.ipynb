{
 "cells": [
  {
   "cell_type": "code",
   "execution_count": 7,
   "metadata": {},
   "outputs": [
    {
     "name": "stdout",
     "output_type": "stream",
     "text": [
      "   SUBJECT_ID  ITEMID            CHARTTIME\n",
      "0          36  223834  2134-05-12 12:00:00\n",
      "1          36  223835  2134-05-12 12:00:00\n",
      "2          36  224328  2134-05-12 12:00:00\n",
      "3          36  224329  2134-05-12 12:00:00\n",
      "4          36  224330  2134-05-12 12:00:00\n"
     ]
    }
   ],
   "source": [
    "import pandas as pd\n",
    "mainTable = pd.read_csv(\"./mimic-iii-clinical-database-1.4/CHARTEVENTS.csv.gz\", compression='gzip', usecols=['SUBJECT_ID', \"CHARTTIME\", \"ITEMID\"])\n",
    "print(mainTable.head(5))"
   ]
  },
  {
   "cell_type": "code",
   "execution_count": 8,
   "metadata": {},
   "outputs": [
    {
     "name": "stdout",
     "output_type": "stream",
     "text": [
      "   ROW_ID  ITEMID                                        LABEL ABBREVIATION  \\\n",
      "0     457     497  Patient controlled analgesia (PCA) [Inject]          NaN   \n",
      "1     458     498                            PCA Lockout (Min)          NaN   \n",
      "2     459     499                               PCA Medication          NaN   \n",
      "3     460     500                               PCA Total Dose          NaN   \n",
      "4     461     501                           PCV Exh Vt (Obser)          NaN   \n",
      "\n",
      "  DBSOURCE      LINKSTO CATEGORY UNITNAME PARAM_TYPE  CONCEPTID  \n",
      "0  carevue  chartevents      NaN      NaN        NaN        NaN  \n",
      "1  carevue  chartevents      NaN      NaN        NaN        NaN  \n",
      "2  carevue  chartevents      NaN      NaN        NaN        NaN  \n",
      "3  carevue  chartevents      NaN      NaN        NaN        NaN  \n",
      "4  carevue  chartevents      NaN      NaN        NaN        NaN  \n",
      "\n",
      "\n",
      "      ROW_ID  ITEMID     LABEL ABBREVIATION DBSOURCE      LINKSTO CATEGORY  \\\n",
      "1506     687     762  Admit Wt          NaN  carevue  chartevents      NaN   \n",
      "\n",
      "     UNITNAME PARAM_TYPE  CONCEPTID  \n",
      "1506      NaN        NaN        NaN  \n",
      "Admit Wt\n",
      "12487\n"
     ]
    }
   ],
   "source": [
    "D_ITEMS = pd.read_csv('./mimic-iii-clinical-database-1.4/D_ITEMS.csv.gz', compression='gzip')\n",
    "print(D_ITEMS.head(5))\n",
    "print()\n",
    "print()\n",
    "print(D_ITEMS[D_ITEMS['ITEMID'] == 762])\n",
    "itemsD = dict(zip(D_ITEMS['ITEMID'], D_ITEMS['LABEL']))\n",
    "print(itemsD[762])\n",
    "print(len(itemsD))"
   ]
  },
  {
   "cell_type": "code",
   "execution_count": 9,
   "metadata": {},
   "outputs": [
    {
     "name": "stdout",
     "output_type": "stream",
     "text": [
      "   ROW_ID  SUBJECT_ID GENDER                  DOB                  DOD  \\\n",
      "0     234         249      F  2075-03-13 00:00:00                  NaN   \n",
      "1     235         250      F  2164-12-27 00:00:00  2188-11-22 00:00:00   \n",
      "2     236         251      M  2090-03-15 00:00:00                  NaN   \n",
      "3     237         252      M  2078-03-06 00:00:00                  NaN   \n",
      "4     238         253      F  2089-11-26 00:00:00                  NaN   \n",
      "\n",
      "              DOD_HOSP DOD_SSN  EXPIRE_FLAG  \n",
      "0                  NaN     NaN            0  \n",
      "1  2188-11-22 00:00:00     NaN            1  \n",
      "2                  NaN     NaN            0  \n",
      "3                  NaN     NaN            0  \n",
      "4                  NaN     NaN            0  \n",
      "     ROW_ID  SUBJECT_ID GENDER                  DOB  DOD DOD_HOSP DOD_SSN  \\\n",
      "222       1           2      M  2138-07-17 00:00:00  NaN      NaN     NaN   \n",
      "\n",
      "     EXPIRE_FLAG  \n",
      "222            0  \n",
      "2138-07-17 00:00:00\n"
     ]
    }
   ],
   "source": [
    "PATIENTS = pd.read_csv('./mimic-iii-clinical-database-1.4/PATIENTS.csv.gz', compression='gzip')\n",
    "print(PATIENTS.head(5))\n",
    "print(PATIENTS[PATIENTS['SUBJECT_ID'] == 2])\n",
    "\n",
    "patientD = dict(zip(PATIENTS[\"SUBJECT_ID\"], PATIENTS[\"DOB\"]))\n",
    "print(patientD[2])"
   ]
  }
 ],
 "metadata": {
  "kernelspec": {
   "display_name": "Python 3",
   "language": "python",
   "name": "python3"
  },
  "language_info": {
   "codemirror_mode": {
    "name": "ipython",
    "version": 3
   },
   "file_extension": ".py",
   "mimetype": "text/x-python",
   "name": "python",
   "nbconvert_exporter": "python",
   "pygments_lexer": "ipython3",
   "version": "3.11.5"
  }
 },
 "nbformat": 4,
 "nbformat_minor": 2
}
